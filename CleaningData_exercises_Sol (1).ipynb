{
  "cells": [
    {
      "cell_type": "markdown",
      "metadata": {
        "id": "_em5Btsrj3iE"
      },
      "source": [
        "<center><img src=\"https://i.imgur.com/zRrFdsf.png\" width=\"700\"></center>"
      ]
    },
    {
      "cell_type": "markdown",
      "metadata": {
        "id": "tswpoHU-j3iG"
      },
      "source": [
        "\n",
        "# Data Cleaning\n",
        "\n",
        "\n"
      ]
    },
    {
      "cell_type": "markdown",
      "metadata": {
        "id": "O2f27oVNj3iM"
      },
      "source": [
        "## Exercises:"
      ]
    },
    {
      "cell_type": "markdown",
      "metadata": {
        "id": "qa-8nTVVj3iM"
      },
      "source": [
        "The CIA has several indicators for world countries:\n",
        "\n",
        "- See [here](https://www.cia.gov/the-world-factbook/references/guide-to-country-comparisons).\n",
        "\n",
        "Review the topics related to cleaning discussed in class, and see what may be need to clean this indicator from the CIA:\n",
        "\n",
        "- [Carbon dioxide emissions](https://www.cia.gov/the-world-factbook/field/carbon-dioxide-emissions/country-comparison)."
      ]
    },
    {
      "cell_type": "markdown",
      "metadata": {
        "id": "mgdN9ZK_j3iN"
      },
      "source": [
        "You  need to make sure you have installed:\n",
        "\n",
        "* pandas\n",
        "* html5lib\n",
        "* lxml\n",
        "* beautifulsoup4 (or bs4)\n",
        "\n",
        "You can use **pip show** to verify (for instance, _pip show pandas_). If you have all of them, run this code to get the data:"
      ]
    },
    {
      "cell_type": "code",
      "source": [
        "pip show pandas html5lib lxml beautifulsoup4"
      ],
      "metadata": {
        "id": "cWmSJbqbxIfJ"
      },
      "execution_count": null,
      "outputs": []
    },
    {
      "cell_type": "code",
      "execution_count": null,
      "metadata": {
        "id": "hlzdg_DWj3iN"
      },
      "outputs": [],
      "source": [
        "# read web table into pandas DF\n",
        "import pandas as pd\n",
        "ciaLink1=\"https://www.cia.gov/the-world-factbook/field/carbon-dioxide-emissions/country-comparison\"\n",
        "\n",
        "carbon=pd.read_html(ciaLink1)[0]\n",
        "# here it is:\n",
        "carbon"
      ]
    },
    {
      "cell_type": "code",
      "execution_count": null,
      "metadata": {
        "id": "0TTJk1odj3iN"
      },
      "outputs": [],
      "source": [
        "# also\n",
        "carbon.info()"
      ]
    },
    {
      "cell_type": "code",
      "execution_count": null,
      "metadata": {
        "id": "4ECdF70Zj3iO"
      },
      "outputs": [],
      "source": [
        "# frequency table\n",
        "carbon['Date of Information'].value_counts()"
      ]
    },
    {
      "cell_type": "markdown",
      "source": [
        "# Complete the tasks requested:"
      ],
      "metadata": {
        "id": "MzGYEi4Tzoc8"
      }
    },
    {
      "cell_type": "markdown",
      "source": [
        "1. Keep the columns 'Country','metric tonnes of CO2','Date of Information'.\n",
        "    * Tip: use [drop](https://pandas.pydata.org/docs/reference/api/pandas.DataFrame.drop.html), [loc](https://pandas.pydata.org/docs/reference/api/pandas.DataFrame.loc.html), and [iloc](https://pandas.pydata.org/docs/reference/api/pandas.DataFrame.iloc.html) for the same purpose (three ways to accomplish the task)."
      ],
      "metadata": {
        "id": "C2Xz5i6ZxmfD"
      }
    },
    {
      "cell_type": "code",
      "source": [
        "# using drop\n",
        "keep=['Country','metric tonnes of CO2','Date of Information']\n",
        "dontKeep=set(carbon.columns.to_list())-set(keep)\n",
        "carbonCleaned=carbon.drop(columns=dontKeep)\n",
        "carbonCleaned"
      ],
      "metadata": {
        "id": "ZiWGdehzxoCz"
      },
      "execution_count": null,
      "outputs": []
    },
    {
      "cell_type": "code",
      "source": [
        "# using loc\n",
        "carbon.loc[:,keep]"
      ],
      "metadata": {
        "id": "AJQYXCwvyYSH"
      },
      "execution_count": null,
      "outputs": []
    },
    {
      "cell_type": "code",
      "source": [
        "carbon.iloc[:,[carbon.columns.get_loc(i) for i in keep]]"
      ],
      "metadata": {
        "id": "c0xaS4LXzIEs"
      },
      "execution_count": null,
      "outputs": []
    },
    {
      "cell_type": "markdown",
      "source": [
        "2. Change the column name *date_of_information* to *carbon_date*.\n",
        "    * Tip: Use [rename](https://pandas.pydata.org/docs/reference/api/pandas.DataFrame.rename.html)."
      ],
      "metadata": {
        "id": "3cO-alk0zsIY"
      }
    },
    {
      "cell_type": "code",
      "source": [
        "change={'Date of Information':\"carbon_date\"}\n",
        "carbonCleaned.rename(columns=change,inplace=True)\n",
        "carbonCleaned"
      ],
      "metadata": {
        "id": "ltkguWWsztRE"
      },
      "execution_count": null,
      "outputs": []
    },
    {
      "cell_type": "markdown",
      "source": [
        "3. Make sure the cells with text does not have neither trailing nor leading spaces.\n",
        "    * Tip: use [strip](https://pandas.pydata.org/docs/reference/api/pandas.Series.str.strip.html)."
      ],
      "metadata": {
        "id": "4ZcNsm5B0DYF"
      }
    },
    {
      "cell_type": "code",
      "source": [
        "objectCols=carbonCleaned.select_dtypes(include=['object']).columns\n",
        "objectCols"
      ],
      "metadata": {
        "id": "Fu2q9P5f0GXy"
      },
      "execution_count": null,
      "outputs": []
    },
    {
      "cell_type": "code",
      "source": [
        "carbonCleaned.loc[:,objectCols]=carbonCleaned.loc[:,objectCols].apply(lambda col:col.str.strip())\n",
        "carbonCleaned"
      ],
      "metadata": {
        "id": "uERhJInt0waG"
      },
      "execution_count": null,
      "outputs": []
    },
    {
      "cell_type": "markdown",
      "source": [
        "4. Detect the presence of symbols in the numeric data that are not numeric or point.\n",
        "    * Tip: Use [contains](https://pandas.pydata.org/docs/reference/api/pandas.Series.str.contains.html)."
      ],
      "metadata": {
        "id": "3X8tQNDf1xV2"
      }
    },
    {
      "cell_type": "code",
      "source": [
        "carbonCleaned['metric tonnes of CO2'].info()"
      ],
      "metadata": {
        "id": "Yzf1vhrh1zY2"
      },
      "execution_count": null,
      "outputs": []
    },
    {
      "cell_type": "markdown",
      "source": [
        "5. Get rid of any value detected in the previous step:\n",
        "    * Tip: use [replace](https://pandas.pydata.org/docs/reference/api/pandas.Series.replace.html)."
      ],
      "metadata": {
        "id": "hAuZ0KlEBztF"
      }
    },
    {
      "cell_type": "code",
      "source": [
        "# not needed"
      ],
      "metadata": {
        "id": "e1S5zF2MB4ZG"
      },
      "execution_count": null,
      "outputs": []
    },
    {
      "cell_type": "markdown",
      "source": [
        "6. Make sure there are no spaces as part of the column names.\n",
        "    * Tip: use [replace](https://pandas.pydata.org/docs/reference/api/pandas.Series.replace.html)."
      ],
      "metadata": {
        "id": "mS_u_bUACA81"
      }
    },
    {
      "cell_type": "code",
      "source": [
        "carbonCleaned.columns=carbonCleaned.columns.str.replace('\\s','_',regex=True)\n",
        "carbonCleaned"
      ],
      "metadata": {
        "id": "VYoZtnoJCD45"
      },
      "execution_count": null,
      "outputs": []
    },
    {
      "cell_type": "markdown",
      "metadata": {
        "id": "UIw8d0ozj3iO"
      },
      "source": [
        "\n",
        "\n",
        "\n",
        "7. Keep only the year value in the column *carbon_date*.\n",
        "    * Tip: use [extract](https://pandas.pydata.org/docs/reference/api/pandas.Series.str.extract.html)."
      ]
    },
    {
      "cell_type": "code",
      "source": [
        "carbonCleaned['carbon_date']=carbonCleaned.carbon_date.str.extract('(\\d+)')"
      ],
      "metadata": {
        "id": "13uXtmicCWFZ"
      },
      "execution_count": null,
      "outputs": []
    },
    {
      "cell_type": "code",
      "source": [
        "carbonCleaned"
      ],
      "metadata": {
        "id": "N0FUNWf1FSj9"
      },
      "execution_count": null,
      "outputs": []
    },
    {
      "cell_type": "markdown",
      "source": [
        "When all tasks are done, create a folder **data** inside the current folder, and save the cleaned file like this:"
      ],
      "metadata": {
        "id": "tPjwPISiCAZa"
      }
    },
    {
      "cell_type": "code",
      "execution_count": null,
      "metadata": {
        "id": "AXeewlqLj3iO"
      },
      "outputs": [],
      "source": [
        "import os\n",
        "\n",
        "os.mkdir('data')\n",
        "\n",
        "carbonCleaned.to_csv(os.path.join(\"data\",\"carbonCleaned.csv\"),index=False)"
      ]
    },
    {
      "cell_type": "markdown",
      "metadata": {
        "id": "yd4p-5z7j3iO"
      },
      "source": [
        "- Exercise 2: Scrape the data on [Revenue from forest resources](https://www.cia.gov/the-world-factbook/field/revenue-from-forest-resources/country-comparison)."
      ]
    },
    {
      "cell_type": "code",
      "execution_count": null,
      "metadata": {
        "id": "cPyTuJzpj3iO"
      },
      "outputs": [],
      "source": [
        "\n",
        "ciaLink2=\"https://www.cia.gov/the-world-factbook/field/revenue-from-forest-resources/country-comparison\"\n"
      ]
    },
    {
      "cell_type": "markdown",
      "metadata": {
        "id": "43SfAFXsj3iO"
      },
      "source": [
        "Let's scrape that data:"
      ]
    },
    {
      "cell_type": "code",
      "execution_count": null,
      "metadata": {
        "id": "HcgvTuQCj3iP"
      },
      "outputs": [],
      "source": [
        "# read web table into pandas DF\n",
        "import pandas as pd\n",
        "\n",
        "forestDFs=pd.read_html(ciaLink2, # link\n",
        "                        header=0, # where is the header?\n",
        "                        flavor='bs4')"
      ]
    },
    {
      "cell_type": "code",
      "execution_count": null,
      "metadata": {
        "id": "WBdL1XaSj3iP"
      },
      "outputs": [],
      "source": [
        "# check object type\n",
        "type(forestDFs)"
      ]
    },
    {
      "cell_type": "code",
      "execution_count": null,
      "metadata": {
        "id": "KvuY0yo4j3iP"
      },
      "outputs": [],
      "source": [
        "# check size\n",
        "len(forestDFs)"
      ]
    },
    {
      "cell_type": "markdown",
      "metadata": {
        "id": "fcS8k_fNj3iP"
      },
      "source": [
        "Let's create a copy of that DF:"
      ]
    },
    {
      "cell_type": "code",
      "execution_count": null,
      "metadata": {
        "id": "ofJCgxMgj3iP"
      },
      "outputs": [],
      "source": [
        "# make a copy\n",
        "forest=forestDFs[0].copy()"
      ]
    },
    {
      "cell_type": "code",
      "execution_count": null,
      "metadata": {
        "id": "P0PxbLP4j3iP"
      },
      "outputs": [],
      "source": [
        "# here it is\n",
        "forest"
      ]
    },
    {
      "cell_type": "code",
      "execution_count": null,
      "metadata": {
        "id": "vCCEuTkLj3iQ"
      },
      "outputs": [],
      "source": [
        "# see column names:\n",
        "\n",
        "forest.columns"
      ]
    },
    {
      "cell_type": "code",
      "execution_count": null,
      "metadata": {
        "id": "QZAQVWJNj3iQ"
      },
      "outputs": [],
      "source": [
        "# or\n",
        "\n",
        "forest.columns.to_list()"
      ]
    },
    {
      "cell_type": "code",
      "execution_count": null,
      "metadata": {
        "id": "tPu5Tf2wj3iQ"
      },
      "outputs": [],
      "source": [
        "forest['Date of Information'].value_counts()"
      ]
    },
    {
      "cell_type": "markdown",
      "source": [
        "# Complete the tasks requested:"
      ],
      "metadata": {
        "id": "fIGCtbXmGOau"
      }
    },
    {
      "cell_type": "markdown",
      "source": [
        "1. Replace '%' by 'pct'.\n",
        "    * Tip: use [replace](https://pandas.pydata.org/docs/reference/api/pandas.Series.replace.html)."
      ],
      "metadata": {
        "id": "z4pS3WUKGTbE"
      }
    },
    {
      "cell_type": "code",
      "source": [
        "forest.columns=forest.columns.str.replace('%','pct')\n",
        "forest"
      ],
      "metadata": {
        "id": "sCy1Sg5lGUpO"
      },
      "execution_count": null,
      "outputs": []
    },
    {
      "cell_type": "markdown",
      "source": [
        "2. Keep the columns _Country_, _pct of GDP_, and *Date of Information*.\n",
        "    * Tip: use [drop](https://pandas.pydata.org/docs/reference/api/pandas.DataFrame.drop.html), [loc](https://pandas.pydata.org/docs/reference/api/pandas.DataFrame.loc.html), and [iloc](https://pandas.pydata.org/docs/reference/api/pandas.DataFrame.iloc.html) for the same purpose (three ways to accomplish the task)."
      ],
      "metadata": {
        "id": "55vqyGksGv94"
      }
    },
    {
      "cell_type": "code",
      "source": [
        "keep=['Country', 'pct of GDP', 'Date of Information']\n",
        "forestClean=forest.loc[:,keep]\n",
        "forestClean"
      ],
      "metadata": {
        "id": "PIY6TTAmGxUp"
      },
      "execution_count": null,
      "outputs": []
    },
    {
      "cell_type": "markdown",
      "source": [
        "3. Change the column name *Date of Information* to *forest_date*.\n",
        "    * Tip: Use [rename](https://pandas.pydata.org/docs/reference/api/pandas.DataFrame.rename.html)."
      ],
      "metadata": {
        "id": "-AhCujBlHf3r"
      }
    },
    {
      "cell_type": "code",
      "source": [
        "forestClean.rename(columns={'Date of Information':'forest_date'},inplace=True)\n",
        "forestClean"
      ],
      "metadata": {
        "id": "ugCmjiu7HhB5"
      },
      "execution_count": null,
      "outputs": []
    },
    {
      "cell_type": "markdown",
      "source": [
        "4. Make sure there are no spaces as part of the column names.\n",
        "    * Tip: use [replace](https://pandas.pydata.org/docs/reference/api/pandas.Series.replace.html)."
      ],
      "metadata": {
        "id": "wKI00ScYH2zY"
      }
    },
    {
      "cell_type": "code",
      "source": [
        "forestClean.columns=forestClean.columns.str.replace('\\s','', regex=True)\n",
        "forestClean"
      ],
      "metadata": {
        "id": "LuEODKmJH47j"
      },
      "execution_count": null,
      "outputs": []
    },
    {
      "cell_type": "markdown",
      "source": [
        "5. Make sure the cells with text does not have neither trailing nor leading spaces.\n",
        "    * Tip: use [strip](https://pandas.pydata.org/docs/reference/api/pandas.Series.str.strip.html)."
      ],
      "metadata": {
        "id": "TXAn18HyIGTL"
      }
    },
    {
      "cell_type": "code",
      "source": [
        "forestClean.info()"
      ],
      "metadata": {
        "id": "u_QIyahoIHUD"
      },
      "execution_count": null,
      "outputs": []
    },
    {
      "cell_type": "code",
      "source": [
        "objectCols=forestClean.select_dtypes(include=['object']).columns\n",
        "objectCols"
      ],
      "metadata": {
        "id": "xO6Z4XLjIUmb"
      },
      "execution_count": null,
      "outputs": []
    },
    {
      "cell_type": "code",
      "source": [
        "forestClean[objectCols]=forestClean.loc[:,objectCols].apply(lambda col:col.str.strip())\n",
        "forestClean"
      ],
      "metadata": {
        "id": "7Dl3viIEIXyW"
      },
      "execution_count": null,
      "outputs": []
    },
    {
      "cell_type": "markdown",
      "metadata": {
        "id": "tmiqVHh7j3iQ"
      },
      "source": [
        "\n",
        "\n",
        "6. Keep only the year value in the column *forest_date*.\n",
        "    * Tip: use [extract](https://pandas.pydata.org/docs/reference/api/pandas.Series.str.extract.html).\n",
        "\n"
      ]
    },
    {
      "cell_type": "code",
      "source": [
        "forestClean['forest_date']=forestClean.forest_date.str.extract('(\\d+)')\n",
        "forestClean"
      ],
      "metadata": {
        "id": "w0mSe_rHIwTn"
      },
      "execution_count": null,
      "outputs": []
    },
    {
      "cell_type": "markdown",
      "source": [
        "When all tasks are done, save the cleaned file inside your **data** folder:"
      ],
      "metadata": {
        "id": "kFqcPQQGJBd5"
      }
    },
    {
      "cell_type": "code",
      "execution_count": null,
      "metadata": {
        "id": "y66BGcvjj3iQ"
      },
      "outputs": [],
      "source": [
        "import os\n",
        "\n",
        "forestClean.to_csv(os.path.join(\"data\",\"forestClean.csv\"),index=False)"
      ]
    },
    {
      "cell_type": "code",
      "source": [],
      "metadata": {
        "id": "E2xz8YpKJFnn"
      },
      "execution_count": null,
      "outputs": []
    }
  ],
  "metadata": {
    "anaconda-cloud": {
      "attach-environment": true,
      "summary": "test"
    },
    "hide_input": false,
    "kernelspec": {
      "display_name": "Python 3 (ipykernel)",
      "language": "python",
      "name": "python3"
    },
    "language_info": {
      "codemirror_mode": {
        "name": "ipython",
        "version": 3
      },
      "file_extension": ".py",
      "mimetype": "text/x-python",
      "name": "python",
      "nbconvert_exporter": "python",
      "pygments_lexer": "ipython3",
      "version": "3.11.5"
    },
    "toc-autonumbering": false,
    "colab": {
      "provenance": []
    }
  },
  "nbformat": 4,
  "nbformat_minor": 0
}